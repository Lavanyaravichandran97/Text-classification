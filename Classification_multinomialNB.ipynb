{
 "cells": [
  {
   "cell_type": "code",
   "execution_count": 1,
   "metadata": {},
   "outputs": [],
   "source": [
    "import warnings\n",
    "warnings.filterwarnings('ignore') #filtering warnings\n",
    "import numpy as np # linear algebra\n",
    "import pandas as pd # data processing, read csv file\n",
    "import pandas as pd\n",
    "\n",
    "from sklearn.model_selection import cross_val_score, StratifiedKFold\n",
    "from scipy.sparse import hstack\n",
    "from matplotlib import pyplot as plt\n",
    "import unidecode\n",
    "import re\n",
    "\n",
    "import os\n",
    "for dirname, _, filenames in os.walk('E:/Data science/AV/bbc txt classification/bbc/'):\n",
    "    for filename in filenames:\n",
    "        os.path.join(dirname, filename)\n",
    "        #print(os.path.join(dirname, filename))"
   ]
  },
  {
   "cell_type": "code",
   "execution_count": 2,
   "metadata": {},
   "outputs": [],
   "source": [
    "# Step 1 - Get the file details\n",
    "directory = []\n",
    "file = []\n",
    "title = []\n",
    "text = []\n",
    "label = []\n",
    "datapath = 'E:/Data science/AV/bbc txt classification/bbc/' \n",
    "for dirname, _ , filenames in os.walk(datapath):\n",
    "    #print('Directory: ', dirname)\n",
    "    #print('Subdir: ', dirname.split('/')[-1])\n",
    "    # remove the Readme.txt file\n",
    "    # will not find file in the second iteration so we skip the error\n",
    "    try:\n",
    "        filenames.remove('README.TXT')\n",
    "    except:\n",
    "        pass\n",
    "    for filename in filenames:\n",
    "        directory.append(dirname)\n",
    "        file.append(filename)\n",
    "        label.append(dirname.split('/')[-1])\n",
    "        #print(filename)\n",
    "        fullpathfile = os.path.join(dirname,filename)\n",
    "        with open(fullpathfile, 'r', encoding=\"utf8\", errors='ignore') as infile:\n",
    "            intext = ''\n",
    "            firstline = True\n",
    "            for line in infile:\n",
    "                if firstline:\n",
    "                    title.append(line.replace('\\n',''))\n",
    "                    firstline = False\n",
    "                else:\n",
    "                    intext = intext + ' ' + line.replace('\\n','')\n",
    "            text.append(intext)"
   ]
  },
  {
   "cell_type": "markdown",
   "metadata": {},
   "source": [
    "Construct a dataframe each row contains each text file from all categories. First line in the text file will be under column heading 'title', rest of the content will be under 'text' column heading and category name will be under 'label'.                                            "
   ]
  },
  {
   "cell_type": "code",
   "execution_count": 3,
   "metadata": {},
   "outputs": [
    {
     "name": "stdout",
     "output_type": "stream",
     "text": [
      "FullDf :  (2215, 5)\n",
      "DF :  (2215, 3)\n"
     ]
    }
   ],
   "source": [
    "fulldf = pd.DataFrame(list(zip(directory, file, title, text, label)), \n",
    "               columns =['directory', 'file', 'title', 'text', 'label'])\n",
    "\n",
    "df = fulldf.filter(['title','text','label'], axis=1)\n",
    "\n",
    "print(\"FullDf : \", fulldf.shape)\n",
    "print(\"DF : \", df.shape)"
   ]
  },
  {
   "cell_type": "code",
   "execution_count": 4,
   "metadata": {},
   "outputs": [
    {
     "data": {
      "text/html": [
       "<div>\n",
       "<style scoped>\n",
       "    .dataframe tbody tr th:only-of-type {\n",
       "        vertical-align: middle;\n",
       "    }\n",
       "\n",
       "    .dataframe tbody tr th {\n",
       "        vertical-align: top;\n",
       "    }\n",
       "\n",
       "    .dataframe thead th {\n",
       "        text-align: right;\n",
       "    }\n",
       "</style>\n",
       "<table border=\"1\" class=\"dataframe\">\n",
       "  <thead>\n",
       "    <tr style=\"text-align: right;\">\n",
       "      <th></th>\n",
       "      <th>directory</th>\n",
       "      <th>file</th>\n",
       "      <th>title</th>\n",
       "      <th>text</th>\n",
       "      <th>label</th>\n",
       "    </tr>\n",
       "  </thead>\n",
       "  <tbody>\n",
       "    <tr>\n",
       "      <th>0</th>\n",
       "      <td>E:/Data science/AV/bbc txt classification/bbc/...</td>\n",
       "      <td>002.txt</td>\n",
       "      <td>Dollar gains on Greenspan speech</td>\n",
       "      <td>The dollar has hit its highest level against...</td>\n",
       "      <td>business</td>\n",
       "    </tr>\n",
       "    <tr>\n",
       "      <th>1</th>\n",
       "      <td>E:/Data science/AV/bbc txt classification/bbc/...</td>\n",
       "      <td>003.txt</td>\n",
       "      <td>Yukos unit buyer faces loan claim</td>\n",
       "      <td>The owners of embattled Russian oil giant Yu...</td>\n",
       "      <td>business</td>\n",
       "    </tr>\n",
       "    <tr>\n",
       "      <th>2</th>\n",
       "      <td>E:/Data science/AV/bbc txt classification/bbc/...</td>\n",
       "      <td>004.txt</td>\n",
       "      <td>High fuel prices hit BA's profits</td>\n",
       "      <td>British Airways has blamed high fuel prices ...</td>\n",
       "      <td>business</td>\n",
       "    </tr>\n",
       "    <tr>\n",
       "      <th>3</th>\n",
       "      <td>E:/Data science/AV/bbc txt classification/bbc/...</td>\n",
       "      <td>005.txt</td>\n",
       "      <td>Pernod takeover talk lifts Domecq</td>\n",
       "      <td>Shares in UK drinks and food firm Allied Dom...</td>\n",
       "      <td>business</td>\n",
       "    </tr>\n",
       "    <tr>\n",
       "      <th>4</th>\n",
       "      <td>E:/Data science/AV/bbc txt classification/bbc/...</td>\n",
       "      <td>006.txt</td>\n",
       "      <td>Japan narrowly escapes recession</td>\n",
       "      <td>Japan's economy teetered on the brink of a t...</td>\n",
       "      <td>business</td>\n",
       "    </tr>\n",
       "  </tbody>\n",
       "</table>\n",
       "</div>"
      ],
      "text/plain": [
       "                                           directory     file  \\\n",
       "0  E:/Data science/AV/bbc txt classification/bbc/...  002.txt   \n",
       "1  E:/Data science/AV/bbc txt classification/bbc/...  003.txt   \n",
       "2  E:/Data science/AV/bbc txt classification/bbc/...  004.txt   \n",
       "3  E:/Data science/AV/bbc txt classification/bbc/...  005.txt   \n",
       "4  E:/Data science/AV/bbc txt classification/bbc/...  006.txt   \n",
       "\n",
       "                               title  \\\n",
       "0   Dollar gains on Greenspan speech   \n",
       "1  Yukos unit buyer faces loan claim   \n",
       "2  High fuel prices hit BA's profits   \n",
       "3  Pernod takeover talk lifts Domecq   \n",
       "4   Japan narrowly escapes recession   \n",
       "\n",
       "                                                text     label  \n",
       "0    The dollar has hit its highest level against...  business  \n",
       "1    The owners of embattled Russian oil giant Yu...  business  \n",
       "2    British Airways has blamed high fuel prices ...  business  \n",
       "3    Shares in UK drinks and food firm Allied Dom...  business  \n",
       "4    Japan's economy teetered on the brink of a t...  business  "
      ]
     },
     "execution_count": 4,
     "metadata": {},
     "output_type": "execute_result"
    }
   ],
   "source": [
    "fulldf.head()"
   ]
  },
  {
   "cell_type": "code",
   "execution_count": 5,
   "metadata": {},
   "outputs": [
    {
     "data": {
      "text/html": [
       "<div>\n",
       "<style scoped>\n",
       "    .dataframe tbody tr th:only-of-type {\n",
       "        vertical-align: middle;\n",
       "    }\n",
       "\n",
       "    .dataframe tbody tr th {\n",
       "        vertical-align: top;\n",
       "    }\n",
       "\n",
       "    .dataframe thead th {\n",
       "        text-align: right;\n",
       "    }\n",
       "</style>\n",
       "<table border=\"1\" class=\"dataframe\">\n",
       "  <thead>\n",
       "    <tr style=\"text-align: right;\">\n",
       "      <th></th>\n",
       "      <th>title</th>\n",
       "      <th>text</th>\n",
       "      <th>label</th>\n",
       "    </tr>\n",
       "  </thead>\n",
       "  <tbody>\n",
       "    <tr>\n",
       "      <th>0</th>\n",
       "      <td>Dollar gains on Greenspan speech</td>\n",
       "      <td>The dollar has hit its highest level against...</td>\n",
       "      <td>business</td>\n",
       "    </tr>\n",
       "    <tr>\n",
       "      <th>1</th>\n",
       "      <td>Yukos unit buyer faces loan claim</td>\n",
       "      <td>The owners of embattled Russian oil giant Yu...</td>\n",
       "      <td>business</td>\n",
       "    </tr>\n",
       "    <tr>\n",
       "      <th>2</th>\n",
       "      <td>High fuel prices hit BA's profits</td>\n",
       "      <td>British Airways has blamed high fuel prices ...</td>\n",
       "      <td>business</td>\n",
       "    </tr>\n",
       "    <tr>\n",
       "      <th>3</th>\n",
       "      <td>Pernod takeover talk lifts Domecq</td>\n",
       "      <td>Shares in UK drinks and food firm Allied Dom...</td>\n",
       "      <td>business</td>\n",
       "    </tr>\n",
       "    <tr>\n",
       "      <th>4</th>\n",
       "      <td>Japan narrowly escapes recession</td>\n",
       "      <td>Japan's economy teetered on the brink of a t...</td>\n",
       "      <td>business</td>\n",
       "    </tr>\n",
       "  </tbody>\n",
       "</table>\n",
       "</div>"
      ],
      "text/plain": [
       "                               title  \\\n",
       "0   Dollar gains on Greenspan speech   \n",
       "1  Yukos unit buyer faces loan claim   \n",
       "2  High fuel prices hit BA's profits   \n",
       "3  Pernod takeover talk lifts Domecq   \n",
       "4   Japan narrowly escapes recession   \n",
       "\n",
       "                                                text     label  \n",
       "0    The dollar has hit its highest level against...  business  \n",
       "1    The owners of embattled Russian oil giant Yu...  business  \n",
       "2    British Airways has blamed high fuel prices ...  business  \n",
       "3    Shares in UK drinks and food firm Allied Dom...  business  \n",
       "4    Japan's economy teetered on the brink of a t...  business  "
      ]
     },
     "execution_count": 5,
     "metadata": {},
     "output_type": "execute_result"
    }
   ],
   "source": [
    "df.head()"
   ]
  },
  {
   "cell_type": "code",
   "execution_count": 6,
   "metadata": {},
   "outputs": [
    {
     "name": "stdout",
     "output_type": "stream",
     "text": [
      "Train DF:  (1772, 3)\n",
      "Test DF:  (443, 3)\n"
     ]
    }
   ],
   "source": [
    "from sklearn.model_selection import train_test_split\n",
    "train, test = train_test_split(df, test_size=0.2)\n",
    "print(\"Train DF: \",train.shape)\n",
    "print(\"Test DF: \",test.shape)"
   ]
  },
  {
   "cell_type": "markdown",
   "metadata": {},
   "source": [
    "## Preprocessing "
   ]
  },
  {
   "cell_type": "code",
   "execution_count": 7,
   "metadata": {},
   "outputs": [],
   "source": [
    "def remove_accented_chars(text):\n",
    "    \"\"\"remove accented characters from text, e.g. café\"\"\"\n",
    "    text = unidecode.unidecode(text)\n",
    "    return text"
   ]
  },
  {
   "cell_type": "code",
   "execution_count": 8,
   "metadata": {},
   "outputs": [],
   "source": [
    "def lower_(text):\n",
    "    return text.lower()"
   ]
  },
  {
   "cell_type": "code",
   "execution_count": 9,
   "metadata": {},
   "outputs": [],
   "source": [
    "from nltk.corpus import stopwords \n",
    "from nltk.tokenize import word_tokenize \n",
    "  \n",
    "def stop_words_removal(sentence):\n",
    "  \n",
    "    stop_words = set(stopwords.words('english')) \n",
    "    word_tokens = word_tokenize(sentence)\n",
    "  \n",
    "    filtered_sentence = [w for w in word_tokens if not w in stop_words] \n",
    "    return (' '.join(filtered_sentence))"
   ]
  },
  {
   "cell_type": "code",
   "execution_count": 10,
   "metadata": {},
   "outputs": [],
   "source": [
    "def remove_special_characters(text, remove_digits=True):\n",
    "    pattern = r'[^a-zA-z0-9\\s]' if not remove_digits else r'[^a-zA-z\\s]'\n",
    "    text = re.sub(pattern, '', text)\n",
    "    return text"
   ]
  },
  {
   "cell_type": "code",
   "execution_count": 11,
   "metadata": {},
   "outputs": [],
   "source": [
    "train['cons']=train['title']+train['text'] \n",
    "test['cons']=test['title']+test['text'] "
   ]
  },
  {
   "cell_type": "code",
   "execution_count": 12,
   "metadata": {},
   "outputs": [],
   "source": [
    "train['cons']=train['cons'].apply(remove_accented_chars)\n",
    "test['cons']=test['cons'].apply(remove_accented_chars)\n",
    "\n",
    "train['cons']=train['cons'].apply(lower_)\n",
    "test['cons']=test['cons'].apply(lower_)\n",
    "\n",
    "train['cons']=train['cons'].apply(stop_words_removal)\n",
    "test['cons']=test['cons'].apply(stop_words_removal)\n",
    "\n",
    "train['cons']=train['cons'].apply(remove_special_characters)\n",
    "test['cons']=test['cons'].apply(remove_special_characters)"
   ]
  },
  {
   "cell_type": "code",
   "execution_count": 13,
   "metadata": {},
   "outputs": [
    {
     "data": {
      "text/html": [
       "<div>\n",
       "<style scoped>\n",
       "    .dataframe tbody tr th:only-of-type {\n",
       "        vertical-align: middle;\n",
       "    }\n",
       "\n",
       "    .dataframe tbody tr th {\n",
       "        vertical-align: top;\n",
       "    }\n",
       "\n",
       "    .dataframe thead th {\n",
       "        text-align: right;\n",
       "    }\n",
       "</style>\n",
       "<table border=\"1\" class=\"dataframe\">\n",
       "  <thead>\n",
       "    <tr style=\"text-align: right;\">\n",
       "      <th></th>\n",
       "      <th>title</th>\n",
       "      <th>text</th>\n",
       "      <th>label</th>\n",
       "      <th>cons</th>\n",
       "    </tr>\n",
       "  </thead>\n",
       "  <tbody>\n",
       "    <tr>\n",
       "      <th>1072</th>\n",
       "      <td>Former NI minister Scott dies</td>\n",
       "      <td>Former Northern Ireland minister Sir Nichola...</td>\n",
       "      <td>politics</td>\n",
       "      <td>former ni minister scott dies former northern ...</td>\n",
       "    </tr>\n",
       "    <tr>\n",
       "      <th>226</th>\n",
       "      <td>Shares rise on new Man Utd offer</td>\n",
       "      <td>Shares in Manchester United closed up 4.75% ...</td>\n",
       "      <td>business</td>\n",
       "      <td>shares rise new man utd offer shares mancheste...</td>\n",
       "    </tr>\n",
       "    <tr>\n",
       "      <th>1621</th>\n",
       "      <td>Munster Cup tie switched to Spain</td>\n",
       "      <td>Munster's Heineken Cup quarter-final tie aga...</td>\n",
       "      <td>sport</td>\n",
       "      <td>munster cup tie switched spain munster s heine...</td>\n",
       "    </tr>\n",
       "    <tr>\n",
       "      <th>1569</th>\n",
       "      <td>Gronkjaer agrees switch to Madrid</td>\n",
       "      <td>Jesper Gronkjaer has agreed a move to Atleti...</td>\n",
       "      <td>sport</td>\n",
       "      <td>gronkjaer agrees switch madrid jesper gronkjae...</td>\n",
       "    </tr>\n",
       "    <tr>\n",
       "      <th>4</th>\n",
       "      <td>Japan narrowly escapes recession</td>\n",
       "      <td>Japan's economy teetered on the brink of a t...</td>\n",
       "      <td>business</td>\n",
       "      <td>japan narrowly escapes recession japan s econo...</td>\n",
       "    </tr>\n",
       "  </tbody>\n",
       "</table>\n",
       "</div>"
      ],
      "text/plain": [
       "                                  title  \\\n",
       "1072      Former NI minister Scott dies   \n",
       "226    Shares rise on new Man Utd offer   \n",
       "1621  Munster Cup tie switched to Spain   \n",
       "1569  Gronkjaer agrees switch to Madrid   \n",
       "4      Japan narrowly escapes recession   \n",
       "\n",
       "                                                   text     label  \\\n",
       "1072    Former Northern Ireland minister Sir Nichola...  politics   \n",
       "226     Shares in Manchester United closed up 4.75% ...  business   \n",
       "1621    Munster's Heineken Cup quarter-final tie aga...     sport   \n",
       "1569    Jesper Gronkjaer has agreed a move to Atleti...     sport   \n",
       "4       Japan's economy teetered on the brink of a t...  business   \n",
       "\n",
       "                                                   cons  \n",
       "1072  former ni minister scott dies former northern ...  \n",
       "226   shares rise new man utd offer shares mancheste...  \n",
       "1621  munster cup tie switched spain munster s heine...  \n",
       "1569  gronkjaer agrees switch madrid jesper gronkjae...  \n",
       "4     japan narrowly escapes recession japan s econo...  "
      ]
     },
     "execution_count": 13,
     "metadata": {},
     "output_type": "execute_result"
    }
   ],
   "source": [
    "train.head()"
   ]
  },
  {
   "cell_type": "code",
   "execution_count": 14,
   "metadata": {},
   "outputs": [],
   "source": [
    "train_data=train.drop(['cons'],axis=1)"
   ]
  },
  {
   "cell_type": "code",
   "execution_count": 15,
   "metadata": {},
   "outputs": [],
   "source": [
    "train=train.drop(['title','text'],axis=1)"
   ]
  },
  {
   "cell_type": "code",
   "execution_count": 16,
   "metadata": {},
   "outputs": [],
   "source": [
    "test_data=test.drop(['cons'],axis=1)"
   ]
  },
  {
   "cell_type": "code",
   "execution_count": 17,
   "metadata": {},
   "outputs": [],
   "source": [
    "test=test.drop(['title','text'],axis=1)"
   ]
  },
  {
   "cell_type": "code",
   "execution_count": 18,
   "metadata": {},
   "outputs": [],
   "source": [
    "x_train=train['cons']\n",
    "y_train=train['label']\n",
    "x_test=test['cons']\n",
    "y_test=test['label']"
   ]
  },
  {
   "cell_type": "code",
   "execution_count": 19,
   "metadata": {},
   "outputs": [],
   "source": [
    "from sklearn.feature_extraction.text import CountVectorizer\n",
    "count_vect = CountVectorizer()\n",
    "X_train_counts = count_vect.fit_transform(x_train)"
   ]
  },
  {
   "cell_type": "code",
   "execution_count": 20,
   "metadata": {},
   "outputs": [],
   "source": [
    "from sklearn.feature_extraction.text import TfidfVectorizer\n",
    "vectorizer = TfidfVectorizer()\n",
    "X_train_tfidf = vectorizer.fit_transform(x_train)"
   ]
  },
  {
   "cell_type": "markdown",
   "metadata": {},
   "source": [
    "#### Model building\n",
    "##### Multinomial Naive Bayes"
   ]
  },
  {
   "cell_type": "code",
   "execution_count": 21,
   "metadata": {},
   "outputs": [],
   "source": [
    "from sklearn.naive_bayes import MultinomialNB\n",
    "clf = MultinomialNB().fit(X_train_tfidf, y_train)"
   ]
  },
  {
   "cell_type": "code",
   "execution_count": 22,
   "metadata": {},
   "outputs": [
    {
     "name": "stdout",
     "output_type": "stream",
     "text": [
      "Dimension of TF-IDF vector : (443, 27439)\n"
     ]
    }
   ],
   "source": [
    "X_test_tfidf = vectorizer.transform(x_test)\n",
    "print ('Dimension of TF-IDF vector :' , X_test_tfidf.shape)\n",
    "\n",
    "predicted = clf.predict(X_test_tfidf)"
   ]
  },
  {
   "cell_type": "code",
   "execution_count": 23,
   "metadata": {},
   "outputs": [],
   "source": [
    "predicted = clf.predict(X_test_tfidf)"
   ]
  },
  {
   "cell_type": "code",
   "execution_count": 24,
   "metadata": {},
   "outputs": [
    {
     "name": "stdout",
     "output_type": "stream",
     "text": [
      "confusion matrix: \n",
      " [[103   0   1   0   0]\n",
      " [  1  65   2   0   0]\n",
      " [  0   0  75   0   0]\n",
      " [  0   0   0 108   0]\n",
      " [  1   0   3   0  84]] \n",
      "\n",
      "classification_report: \n",
      "                precision    recall  f1-score   support\n",
      "\n",
      "     business       0.98      0.99      0.99       104\n",
      "entertainment       1.00      0.96      0.98        68\n",
      "     politics       0.93      1.00      0.96        75\n",
      "        sport       1.00      1.00      1.00       108\n",
      "         tech       1.00      0.95      0.98        88\n",
      "\n",
      "     accuracy                           0.98       443\n",
      "    macro avg       0.98      0.98      0.98       443\n",
      " weighted avg       0.98      0.98      0.98       443\n",
      "\n",
      "Accuracy: 0.981941309255079\n"
     ]
    }
   ],
   "source": [
    "from sklearn.metrics import classification_report, confusion_matrix, accuracy_score\n",
    "print('confusion matrix:','\\n',confusion_matrix(y_test, predicted),'\\n')\n",
    "print('classification_report:','\\n',classification_report(y_test, predicted))\n",
    "print('Accuracy:',accuracy_score(y_test, predicted))"
   ]
  },
  {
   "cell_type": "markdown",
   "metadata": {},
   "source": [
    "Do the same process (converting into dataframe and preprocessing) for test data and predict the label using our built model."
   ]
  },
  {
   "cell_type": "code",
   "execution_count": 25,
   "metadata": {},
   "outputs": [
    {
     "name": "stdout",
     "output_type": "stream",
     "text": [
      "E:/Data science/AV/bbc txt classification/test/001.txt\n",
      "E:/Data science/AV/bbc txt classification/test/002.txt\n",
      "E:/Data science/AV/bbc txt classification/test/003.txt\n",
      "E:/Data science/AV/bbc txt classification/test/004.txt\n",
      "E:/Data science/AV/bbc txt classification/test/005.txt\n",
      "E:/Data science/AV/bbc txt classification/test/006.txt\n",
      "E:/Data science/AV/bbc txt classification/test/007.txt\n",
      "E:/Data science/AV/bbc txt classification/test/008.txt\n",
      "E:/Data science/AV/bbc txt classification/test/009.txt\n",
      "E:/Data science/AV/bbc txt classification/test/010.txt\n"
     ]
    }
   ],
   "source": [
    "import os\n",
    "for dirname, _, filenames in os.walk('E:/Data science/AV/bbc txt classification/test/'):\n",
    "    for filename in filenames:\n",
    "        print(os.path.join(dirname, filename))"
   ]
  },
  {
   "cell_type": "code",
   "execution_count": 26,
   "metadata": {},
   "outputs": [],
   "source": [
    "# Step 1 - Get the file details\n",
    "directory = []\n",
    "file = []\n",
    "title = []\n",
    "text = []\n",
    "label = []\n",
    "datapath = 'E:/Data science/AV/bbc txt classification/test/' \n",
    "for dirname, _ , filenames in os.walk(datapath):\n",
    "    #print('Directory: ', dirname)\n",
    "    #print('Subdir: ', dirname.split('/')[-1])\n",
    "    # remove the Readme.txt file\n",
    "    # will not find file in the second iteration so we skip the error\n",
    "    try:\n",
    "        filenames.remove('README.TXT')\n",
    "    except:\n",
    "        pass\n",
    "    for filename in filenames:\n",
    "        directory.append(dirname)\n",
    "        file.append(filename)\n",
    "        label.append(dirname.split('/')[-1])\n",
    "        #print(filename)\n",
    "        fullpathfile = os.path.join(dirname,filename)\n",
    "        with open(fullpathfile, 'r', encoding=\"utf8\", errors='ignore') as infile:\n",
    "            intext = ''\n",
    "            firstline = True\n",
    "            for line in infile:\n",
    "                if firstline:\n",
    "                    title.append(line.replace('\\n',''))\n",
    "                    firstline = False\n",
    "                else:\n",
    "                    intext = intext + ' ' + line.replace('\\n','')\n",
    "            text.append(intext)"
   ]
  },
  {
   "cell_type": "code",
   "execution_count": 27,
   "metadata": {},
   "outputs": [
    {
     "data": {
      "text/html": [
       "<div>\n",
       "<style scoped>\n",
       "    .dataframe tbody tr th:only-of-type {\n",
       "        vertical-align: middle;\n",
       "    }\n",
       "\n",
       "    .dataframe tbody tr th {\n",
       "        vertical-align: top;\n",
       "    }\n",
       "\n",
       "    .dataframe thead th {\n",
       "        text-align: right;\n",
       "    }\n",
       "</style>\n",
       "<table border=\"1\" class=\"dataframe\">\n",
       "  <thead>\n",
       "    <tr style=\"text-align: right;\">\n",
       "      <th></th>\n",
       "      <th>title</th>\n",
       "      <th>text</th>\n",
       "    </tr>\n",
       "  </thead>\n",
       "  <tbody>\n",
       "    <tr>\n",
       "      <th>0</th>\n",
       "      <td>Ad sales boost Time Warner profit</td>\n",
       "      <td>Quarterly profits at US media giant TimeWarn...</td>\n",
       "    </tr>\n",
       "    <tr>\n",
       "      <th>1</th>\n",
       "      <td>Jarre joins fairytale celebration</td>\n",
       "      <td>French musician Jean-Michel Jarre is to perf...</td>\n",
       "    </tr>\n",
       "    <tr>\n",
       "      <th>2</th>\n",
       "      <td>Hewitt decries 'career sexism'</td>\n",
       "      <td>Plans to extend paid maternity leave beyond ...</td>\n",
       "    </tr>\n",
       "    <tr>\n",
       "      <th>3</th>\n",
       "      <td>IAAF launches fight against drugs</td>\n",
       "      <td>The IAAF - athletics' world governing body -...</td>\n",
       "    </tr>\n",
       "    <tr>\n",
       "      <th>4</th>\n",
       "      <td>Technology gets the creative bug</td>\n",
       "      <td>The hi-tech and the arts worlds have for som...</td>\n",
       "    </tr>\n",
       "    <tr>\n",
       "      <th>5</th>\n",
       "      <td>Wi-fi web reaches farmers in Peru</td>\n",
       "      <td>A network of community computer centres, lin...</td>\n",
       "    </tr>\n",
       "    <tr>\n",
       "      <th>6</th>\n",
       "      <td>O'Sullivan commits to Dublin race</td>\n",
       "      <td>Sonia O'Sullivan will seek to regain her tit...</td>\n",
       "    </tr>\n",
       "    <tr>\n",
       "      <th>7</th>\n",
       "      <td>Women MPs reveal sexist taunts</td>\n",
       "      <td>Women MPs endure \"shocking\" levels of sexist...</td>\n",
       "    </tr>\n",
       "    <tr>\n",
       "      <th>8</th>\n",
       "      <td>Da Vinci Code is 'lousy history'</td>\n",
       "      <td>The plot of an international bestseller that...</td>\n",
       "    </tr>\n",
       "    <tr>\n",
       "      <th>9</th>\n",
       "      <td>Court rejects $280bn tobacco case</td>\n",
       "      <td>A US government claim accusing the country's...</td>\n",
       "    </tr>\n",
       "  </tbody>\n",
       "</table>\n",
       "</div>"
      ],
      "text/plain": [
       "                               title  \\\n",
       "0  Ad sales boost Time Warner profit   \n",
       "1  Jarre joins fairytale celebration   \n",
       "2     Hewitt decries 'career sexism'   \n",
       "3  IAAF launches fight against drugs   \n",
       "4   Technology gets the creative bug   \n",
       "5  Wi-fi web reaches farmers in Peru   \n",
       "6  O'Sullivan commits to Dublin race   \n",
       "7     Women MPs reveal sexist taunts   \n",
       "8   Da Vinci Code is 'lousy history'   \n",
       "9  Court rejects $280bn tobacco case   \n",
       "\n",
       "                                                text  \n",
       "0    Quarterly profits at US media giant TimeWarn...  \n",
       "1    French musician Jean-Michel Jarre is to perf...  \n",
       "2    Plans to extend paid maternity leave beyond ...  \n",
       "3    The IAAF - athletics' world governing body -...  \n",
       "4    The hi-tech and the arts worlds have for som...  \n",
       "5    A network of community computer centres, lin...  \n",
       "6    Sonia O'Sullivan will seek to regain her tit...  \n",
       "7    Women MPs endure \"shocking\" levels of sexist...  \n",
       "8    The plot of an international bestseller that...  \n",
       "9    A US government claim accusing the country's...  "
      ]
     },
     "execution_count": 27,
     "metadata": {},
     "output_type": "execute_result"
    }
   ],
   "source": [
    "sample = pd.DataFrame(list(zip(directory, file, title, text, label)), \n",
    "               columns =['directory', 'file', 'title', 'text', 'label'])\n",
    "\n",
    "sample_df = sample.filter(['title','text'], axis=1)\n",
    "\n",
    "sample_df"
   ]
  },
  {
   "cell_type": "code",
   "execution_count": 28,
   "metadata": {},
   "outputs": [],
   "source": [
    "sample_data=sample_df.copy()"
   ]
  },
  {
   "cell_type": "code",
   "execution_count": 29,
   "metadata": {},
   "outputs": [],
   "source": [
    "sample_df['cons']=sample_df['title']+sample_df['text'] "
   ]
  },
  {
   "cell_type": "code",
   "execution_count": 30,
   "metadata": {},
   "outputs": [],
   "source": [
    "sample_df['cons']=sample_df['cons'].apply(lower_)\n",
    "sample_df['cons']=sample_df['cons'].apply(remove_accented_chars)\n",
    "\n",
    "sample_df['cons']=sample_df['cons'].apply(stop_words_removal)\n",
    "\n",
    "\n",
    "sample_df['cons']=sample_df['cons'].apply(remove_special_characters)\n"
   ]
  },
  {
   "cell_type": "code",
   "execution_count": 31,
   "metadata": {},
   "outputs": [],
   "source": [
    "sample_df=sample_df.drop(['title','text'],axis=1)"
   ]
  },
  {
   "cell_type": "code",
   "execution_count": 32,
   "metadata": {},
   "outputs": [
    {
     "data": {
      "text/html": [
       "<div>\n",
       "<style scoped>\n",
       "    .dataframe tbody tr th:only-of-type {\n",
       "        vertical-align: middle;\n",
       "    }\n",
       "\n",
       "    .dataframe tbody tr th {\n",
       "        vertical-align: top;\n",
       "    }\n",
       "\n",
       "    .dataframe thead th {\n",
       "        text-align: right;\n",
       "    }\n",
       "</style>\n",
       "<table border=\"1\" class=\"dataframe\">\n",
       "  <thead>\n",
       "    <tr style=\"text-align: right;\">\n",
       "      <th></th>\n",
       "      <th>cons</th>\n",
       "    </tr>\n",
       "  </thead>\n",
       "  <tbody>\n",
       "    <tr>\n",
       "      <th>0</th>\n",
       "      <td>ad sales boost time warner profit quarterly pr...</td>\n",
       "    </tr>\n",
       "    <tr>\n",
       "      <th>1</th>\n",
       "      <td>jarre joins fairytale celebration french music...</td>\n",
       "    </tr>\n",
       "    <tr>\n",
       "      <th>2</th>\n",
       "      <td>hewitt decries career sexism  plans extend pai...</td>\n",
       "    </tr>\n",
       "    <tr>\n",
       "      <th>3</th>\n",
       "      <td>iaaf launches fight drugs iaaf  athletics  wor...</td>\n",
       "    </tr>\n",
       "    <tr>\n",
       "      <th>4</th>\n",
       "      <td>technology gets creative bug hitech arts world...</td>\n",
       "    </tr>\n",
       "  </tbody>\n",
       "</table>\n",
       "</div>"
      ],
      "text/plain": [
       "                                                cons\n",
       "0  ad sales boost time warner profit quarterly pr...\n",
       "1  jarre joins fairytale celebration french music...\n",
       "2  hewitt decries career sexism  plans extend pai...\n",
       "3  iaaf launches fight drugs iaaf  athletics  wor...\n",
       "4  technology gets creative bug hitech arts world..."
      ]
     },
     "execution_count": 32,
     "metadata": {},
     "output_type": "execute_result"
    }
   ],
   "source": [
    "sample_df.head()"
   ]
  },
  {
   "cell_type": "code",
   "execution_count": 33,
   "metadata": {},
   "outputs": [],
   "source": [
    "sample_test=sample_df['cons']"
   ]
  },
  {
   "cell_type": "code",
   "execution_count": 34,
   "metadata": {},
   "outputs": [
    {
     "name": "stdout",
     "output_type": "stream",
     "text": [
      "Dimension of TF-IDF vector : (10, 27439)\n"
     ]
    }
   ],
   "source": [
    "X_sample_test_tfidf = vectorizer.transform(sample_test)\n",
    "print ('Dimension of TF-IDF vector :' , X_sample_test_tfidf.shape)\n",
    "\n",
    "pred = clf.predict(X_sample_test_tfidf)"
   ]
  },
  {
   "cell_type": "code",
   "execution_count": 35,
   "metadata": {},
   "outputs": [],
   "source": [
    "import pandas as pd\n",
    "sample_prediction=pd.DataFrame({'title':sample_data['title'],'text':sample_data['text'],'prediction':pred})"
   ]
  },
  {
   "cell_type": "code",
   "execution_count": 36,
   "metadata": {},
   "outputs": [
    {
     "data": {
      "text/html": [
       "<div>\n",
       "<style scoped>\n",
       "    .dataframe tbody tr th:only-of-type {\n",
       "        vertical-align: middle;\n",
       "    }\n",
       "\n",
       "    .dataframe tbody tr th {\n",
       "        vertical-align: top;\n",
       "    }\n",
       "\n",
       "    .dataframe thead th {\n",
       "        text-align: right;\n",
       "    }\n",
       "</style>\n",
       "<table border=\"1\" class=\"dataframe\">\n",
       "  <thead>\n",
       "    <tr style=\"text-align: right;\">\n",
       "      <th></th>\n",
       "      <th>title</th>\n",
       "      <th>text</th>\n",
       "      <th>prediction</th>\n",
       "    </tr>\n",
       "  </thead>\n",
       "  <tbody>\n",
       "    <tr>\n",
       "      <th>0</th>\n",
       "      <td>Ad sales boost Time Warner profit</td>\n",
       "      <td>Quarterly profits at US media giant TimeWarn...</td>\n",
       "      <td>business</td>\n",
       "    </tr>\n",
       "    <tr>\n",
       "      <th>1</th>\n",
       "      <td>Jarre joins fairytale celebration</td>\n",
       "      <td>French musician Jean-Michel Jarre is to perf...</td>\n",
       "      <td>entertainment</td>\n",
       "    </tr>\n",
       "    <tr>\n",
       "      <th>2</th>\n",
       "      <td>Hewitt decries 'career sexism'</td>\n",
       "      <td>Plans to extend paid maternity leave beyond ...</td>\n",
       "      <td>politics</td>\n",
       "    </tr>\n",
       "    <tr>\n",
       "      <th>3</th>\n",
       "      <td>IAAF launches fight against drugs</td>\n",
       "      <td>The IAAF - athletics' world governing body -...</td>\n",
       "      <td>sport</td>\n",
       "    </tr>\n",
       "    <tr>\n",
       "      <th>4</th>\n",
       "      <td>Technology gets the creative bug</td>\n",
       "      <td>The hi-tech and the arts worlds have for som...</td>\n",
       "      <td>tech</td>\n",
       "    </tr>\n",
       "    <tr>\n",
       "      <th>5</th>\n",
       "      <td>Wi-fi web reaches farmers in Peru</td>\n",
       "      <td>A network of community computer centres, lin...</td>\n",
       "      <td>tech</td>\n",
       "    </tr>\n",
       "    <tr>\n",
       "      <th>6</th>\n",
       "      <td>O'Sullivan commits to Dublin race</td>\n",
       "      <td>Sonia O'Sullivan will seek to regain her tit...</td>\n",
       "      <td>sport</td>\n",
       "    </tr>\n",
       "    <tr>\n",
       "      <th>7</th>\n",
       "      <td>Women MPs reveal sexist taunts</td>\n",
       "      <td>Women MPs endure \"shocking\" levels of sexist...</td>\n",
       "      <td>politics</td>\n",
       "    </tr>\n",
       "    <tr>\n",
       "      <th>8</th>\n",
       "      <td>Da Vinci Code is 'lousy history'</td>\n",
       "      <td>The plot of an international bestseller that...</td>\n",
       "      <td>entertainment</td>\n",
       "    </tr>\n",
       "    <tr>\n",
       "      <th>9</th>\n",
       "      <td>Court rejects $280bn tobacco case</td>\n",
       "      <td>A US government claim accusing the country's...</td>\n",
       "      <td>business</td>\n",
       "    </tr>\n",
       "  </tbody>\n",
       "</table>\n",
       "</div>"
      ],
      "text/plain": [
       "                               title  \\\n",
       "0  Ad sales boost Time Warner profit   \n",
       "1  Jarre joins fairytale celebration   \n",
       "2     Hewitt decries 'career sexism'   \n",
       "3  IAAF launches fight against drugs   \n",
       "4   Technology gets the creative bug   \n",
       "5  Wi-fi web reaches farmers in Peru   \n",
       "6  O'Sullivan commits to Dublin race   \n",
       "7     Women MPs reveal sexist taunts   \n",
       "8   Da Vinci Code is 'lousy history'   \n",
       "9  Court rejects $280bn tobacco case   \n",
       "\n",
       "                                                text     prediction  \n",
       "0    Quarterly profits at US media giant TimeWarn...       business  \n",
       "1    French musician Jean-Michel Jarre is to perf...  entertainment  \n",
       "2    Plans to extend paid maternity leave beyond ...       politics  \n",
       "3    The IAAF - athletics' world governing body -...          sport  \n",
       "4    The hi-tech and the arts worlds have for som...           tech  \n",
       "5    A network of community computer centres, lin...           tech  \n",
       "6    Sonia O'Sullivan will seek to regain her tit...          sport  \n",
       "7    Women MPs endure \"shocking\" levels of sexist...       politics  \n",
       "8    The plot of an international bestseller that...  entertainment  \n",
       "9    A US government claim accusing the country's...       business  "
      ]
     },
     "execution_count": 36,
     "metadata": {},
     "output_type": "execute_result"
    }
   ],
   "source": [
    "sample_prediction"
   ]
  },
  {
   "cell_type": "code",
   "execution_count": null,
   "metadata": {},
   "outputs": [],
   "source": []
  }
 ],
 "metadata": {
  "kernelspec": {
   "display_name": "Python 3",
   "language": "python",
   "name": "python3"
  },
  "language_info": {
   "codemirror_mode": {
    "name": "ipython",
    "version": 3
   },
   "file_extension": ".py",
   "mimetype": "text/x-python",
   "name": "python",
   "nbconvert_exporter": "python",
   "pygments_lexer": "ipython3",
   "version": "3.6.10"
  }
 },
 "nbformat": 4,
 "nbformat_minor": 4
}
